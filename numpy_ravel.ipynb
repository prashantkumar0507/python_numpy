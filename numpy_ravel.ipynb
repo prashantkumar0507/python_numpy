{
 "cells": [
  {
   "attachments": {},
   "cell_type": "markdown",
   "metadata": {},
   "source": [
    "## **NUMPY FUNDAMENTALS - RAVEL ARRAYS**"
   ]
  },
  {
   "cell_type": "code",
   "execution_count": null,
   "metadata": {},
   "outputs": [],
   "source": [
    "import numpy as np"
   ]
  },
  {
   "attachments": {},
   "cell_type": "markdown",
   "metadata": {},
   "source": []
  },
  {
   "attachments": {},
   "cell_type": "markdown",
   "metadata": {},
   "source": [
    "**numpy.ravel**"
   ]
  },
  {
   "attachments": {},
   "cell_type": "markdown",
   "metadata": {},
   "source": [
    "\n",
    ">   Numpy `ravel` routine returns the 1d array or flattened array \n",
    ">   `ravel` optionally accepts the _order_ in which the inpur array is to be flattened\n",
    ">   -   order ='C'   - is a row major ordering of input array is considered when reading. C order is default order\n",
    ">   -   order ='F'   - is a column major ordering of inut array is considered when reading\n",
    ">   -   order ='A'   - read the elements in Fortran-like index order if a is Fortran contiguous in memory, C-like order\n",
    ">   -   order ='K'   - read the elements in the order they occur in memory"
   ]
  },
  {
   "cell_type": "code",
   "execution_count": 29,
   "metadata": {},
   "outputs": [
    {
     "data": {
      "text/plain": [
       "array([0, 1, 2, 3, 4, 5, 6, 7, 8, 9])"
      ]
     },
     "execution_count": 29,
     "metadata": {},
     "output_type": "execute_result"
    }
   ],
   "source": [
    "arr = np.arange(10).reshape(5,2)\n",
    "np.ravel(arr)     # order='c'\n",
    "\n",
    "np.ravel(arr, order='C')"
   ]
  },
  {
   "attachments": {},
   "cell_type": "markdown",
   "metadata": {},
   "source": [
    "**numpy.unravel_index**\n"
   ]
  },
  {
   "attachments": {},
   "cell_type": "markdown",
   "metadata": {},
   "source": [
    "_np.unravel_index(indices,shape,order)_<br>\n",
    ">   -   `unravel_index` accepts the **[flat index](./numpy_flattening_arrays.ipynb)** or **array of flat indices**, converts into the index of the matrix whose shape is passed\n",
    ">   -   `unravel_index` also accepts the shape of the matrix/numpy array \n",
    ">   -   returns the tuple of arrays with shape same as number of indices passed"
   ]
  },
  {
   "cell_type": "code",
   "execution_count": null,
   "metadata": {},
   "outputs": [],
   "source": [
    "# one flat index passed , find the positions of passed flat index in the matrix of the shape passed in second argument\n",
    "\n",
    "np.unravel_index(99, (10,10))    # finds the 99th elements coordinates in 10 x 10 array\n",
    "np.unravel_index(99, (6,7,8))    # finds the coordinate of 99th element in 6 x 7x 8 array\n",
    "\n",
    "#mutiple indices passed\n",
    "\n",
    "np.unravel_index([21,30], (10,10))   # finds the coordinates of 23rd and 30th element in 10 x 10 array\n",
    "\n",
    "#OUTPUT - (array([2, 3], dtype=int64), array([1, 0], dtype=int64))\n",
    "# from the result , coordinate of 23rd element = (2,1)\n",
    "# from the result , coordinate of 30th element = (3,0)\n",
    "\n",
    "# NOTICE : the output contains tuple of arrays where each array holds the coordinate of one dimension\n",
    "# lenght of each array will the number of indices passed\n",
    "# number of array will be equal to dimension of array from the shape\n",
    "\n",
    "\n",
    "np.unravel_index([21,30,45], (10,10)) \n",
    "\n",
    "np.unravel_index([57,75], (6,7,8))   # 57 -- > (1,0,1)  , 75 --> (1,2,3)\n",
    "\n",
    "np.unravel_index([11,22,56], (7,7,7))\n",
    "\n",
    "#invalid \n",
    "np.unravel_index(11, (2,4))   # an array of 2 x4 only has 8 element and hence 11th element cannot be found"
   ]
  },
  {
   "attachments": {},
   "cell_type": "markdown",
   "metadata": {},
   "source": [
    "**numpy.ravel_multi_index**"
   ]
  },
  {
   "attachments": {},
   "cell_type": "markdown",
   "metadata": {},
   "source": [
    "_np.ravel_multi_index(multi_index, dimention, order='C')_ <br>\n",
    "`ravel_multi_index` converts the tuple of indexed arrays into flat indices\n",
    ">   -   accepts multiple indices\n",
    ">   -   The shape of array into which the indices from multi_index apply.\n",
    ">   -   default order is 'C', other option is F"
   ]
  },
  {
   "cell_type": "code",
   "execution_count": 28,
   "metadata": {},
   "outputs": [
    {
     "data": {
      "text/plain": [
       "array([ 0, 67, 48], dtype=int64)"
      ]
     },
     "execution_count": 28,
     "metadata": {},
     "output_type": "execute_result"
    }
   ],
   "source": [
    "arr = np.array([[0,9,6],[0,4,6]])\n",
    "# arr.ndim\n",
    "np.ravel_multi_index(arr, (10,7))"
   ]
  },
  {
   "cell_type": "code",
   "execution_count": null,
   "metadata": {},
   "outputs": [],
   "source": []
  }
 ],
 "metadata": {
  "kernelspec": {
   "display_name": "base",
   "language": "python",
   "name": "python3"
  },
  "language_info": {
   "codemirror_mode": {
    "name": "ipython",
    "version": 3
   },
   "file_extension": ".py",
   "mimetype": "text/x-python",
   "name": "python",
   "nbconvert_exporter": "python",
   "pygments_lexer": "ipython3",
   "version": "3.9.12"
  },
  "orig_nbformat": 4
 },
 "nbformat": 4,
 "nbformat_minor": 2
}
