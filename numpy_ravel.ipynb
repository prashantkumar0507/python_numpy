{
 "cells": [
  {
   "attachments": {},
   "cell_type": "markdown",
   "metadata": {},
   "source": [
    "## **NUMPY FUNDAMENTALS - RAVEL ARRAYS**"
   ]
  },
  {
   "cell_type": "code",
   "execution_count": 3,
   "metadata": {},
   "outputs": [],
   "source": [
    "import numpy as np"
   ]
  },
  {
   "attachments": {},
   "cell_type": "markdown",
   "metadata": {},
   "source": [
    "**numpy.ravel**\n",
    ">   Numpy `ravel` routine returns the 1d array or flattened array \n",
    ">   `ravel` optionally accepts the _order_ in which the inpur array is to be flattened\n",
    ">   -   order ='C'   - is a row major ordering of input array is considered when reading. C order is default order\n",
    ">   -   order ='F'   - is a column major ordering of inut array is considered when reading\n",
    ">   -   order ='A'   - read the elements in Fortran-like index order if a is Fortran contiguous in memory, C-like order\n",
    ">   -   order ='K'   - read the elements in the order they occur in memory"
   ]
  },
  {
   "cell_type": "code",
   "execution_count": 7,
   "metadata": {},
   "outputs": [
    {
     "data": {
      "text/plain": [
       "array([0, 2, 4, 6, 8, 1, 3, 5, 7, 9])"
      ]
     },
     "execution_count": 7,
     "metadata": {},
     "output_type": "execute_result"
    }
   ],
   "source": [
    "arr = np.arange(10).reshape(5,2)\n",
    "np.ravel(arr)     # order='c'\n",
    "\n",
    "np.ravel(arr, order='F')"
   ]
  }
 ],
 "metadata": {
  "kernelspec": {
   "display_name": "base",
   "language": "python",
   "name": "python3"
  },
  "language_info": {
   "codemirror_mode": {
    "name": "ipython",
    "version": 3
   },
   "file_extension": ".py",
   "mimetype": "text/x-python",
   "name": "python",
   "nbconvert_exporter": "python",
   "pygments_lexer": "ipython3",
   "version": "3.9.12"
  },
  "orig_nbformat": 4
 },
 "nbformat": 4,
 "nbformat_minor": 2
}
