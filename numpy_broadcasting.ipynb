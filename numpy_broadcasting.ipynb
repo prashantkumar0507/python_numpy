{
 "cells": [
  {
   "attachments": {},
   "cell_type": "markdown",
   "metadata": {},
   "source": [
    "## **NUMPY FUNDAMENTALS - BROADCASTING**"
   ]
  },
  {
   "attachments": {},
   "cell_type": "markdown",
   "metadata": {},
   "source": [
    "Broadcasting is a way of performing arithmetic operations on arrays of different shapes. It describes how NumPy treats arrays with different shapes during arithmetic operations. Subject to certain constraints, the smaller array is “broadcast” across the larger array so that they have compatible shapes."
   ]
  },
  {
   "cell_type": "code",
   "execution_count": null,
   "metadata": {},
   "outputs": [],
   "source": []
  },
  {
   "attachments": {},
   "cell_type": "markdown",
   "metadata": {},
   "source": [
    "#### RULES OF BROADCASTING IN NUMPY\n",
    "1.   When we perform an operation on NumPy arrays, NumPy compares the shape of the array element-wise from right to left. Two dimensions are compatible only \n",
    ">  -   when they are equal \n",
    ">  -   or one of them is 1\n",
    "\n",
    "<pre>\n",
    "                        A   B   C  <br>\n",
    "arr1 (3d-array shape) = 6 x 8 x 4  <br>\n",
    "arr2 (1d-array shape) =         4   [ same as 1 x 1 x 4] <br>\n",
    "result                = 6 x 8 x 4  \n",
    "</pre> \n",
    "\n",
    ">   dimension A of arr2 is 1 so, broadcast result's A dimension will be 6 , same for dimension B producing result 8 [ rule 2] <br>\n",
    ">   dimension C has 4 in both dimesion so result will be 4 [ rule 1]\n",
    "\n",
    "Result's final shape after broadcasting of arr1 and arr2 - `6 x 8 x 4`"
   ]
  },
  {
   "attachments": {},
   "cell_type": "markdown",
   "metadata": {},
   "source": [
    "#### SOME MORE BROADCASTING EXAMPLES\n",
    "\n",
    "**`BROADCASTABLE ARRAYS`**\n",
    "\n",
    "**Example 1**\n",
    "<pre>\n",
    "A      (4d array):  8 x 1 x 6 x 1<br>\n",
    "B      (3d array):      7 x 1 x 5<br>\n",
    "Result (4d array):  8 x 7 x 6 x 5<br>\n",
    "</pre>\n",
    "\n",
    "**Example 2**\n",
    "<pre>\n",
    "A      (3d array):  15 x 3 x 5\n",
    "B      (3d array):  15 x 1 x 5\n",
    "Result (3d array):  15 x 3 x 5\n",
    "</pre>\n",
    "\n",
    "**Example 3**\n",
    "<pre>\n",
    "A      (3d array):  15 x 3 x 5\n",
    "B      (2d array):       3 x 1\n",
    "Result (3d array):  15 x 3 x 5\n",
    "</pre>\n",
    "\n",
    "<br><br>\n",
    "**`NOT BROADCASTABLE ARRAYS`**\n",
    "\n",
    "**Example 4**\n",
    "<br>both are 1d-array but dimensions do not match \n",
    "<pre>\n",
    "A      (1d array):  4\n",
    "B      (1d array):  5 \n",
    "</pre>\n",
    "\n",
    "**Example 5**\n",
    "<br>broadcast attempt of 2d--array and 3d-array but second dimensions do not match \n",
    "<pre>\n",
    "A      (2d array):      4 x 2\n",
    "B      (3d array):  4 x 2 x 2\n",
    "</pre>"
   ]
  }
 ],
 "metadata": {
  "kernelspec": {
   "display_name": "base",
   "language": "python",
   "name": "python3"
  },
  "language_info": {
   "codemirror_mode": {
    "name": "ipython",
    "version": 3
   },
   "file_extension": ".py",
   "mimetype": "text/x-python",
   "name": "python",
   "nbconvert_exporter": "python",
   "pygments_lexer": "ipython3",
   "version": "3.9.12"
  },
  "orig_nbformat": 4
 },
 "nbformat": 4,
 "nbformat_minor": 2
}
