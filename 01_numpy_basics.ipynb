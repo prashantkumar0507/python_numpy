{
 "cells": [
  {
   "attachments": {},
   "cell_type": "markdown",
   "metadata": {},
   "source": [
    "## **NUMPY BASICS**"
   ]
  },
  {
   "attachments": {},
   "cell_type": "markdown",
   "metadata": {},
   "source": [
    "This introduction of NumPy notebook covers\n",
    ">   - What is NumPy\n",
    ">   - Lists vs NumPy\n",
    ">   - Creating NumPy arrays\n",
    ">   - Dimentions & Size of NumPy arrays\n",
    ">   - Accessing elements of NumPy arrays\n",
    ">   - Altering elements of NumPy arrays\n",
    ">   - Reorganising NumPy arrays"
   ]
  },
  {
   "attachments": {},
   "cell_type": "markdown",
   "metadata": {},
   "source": [
    "#### **Lists v/s NumPy** <br>\n",
    "Why is NumPy faster than Lists\n",
    "\n",
    "1. NumPy arrays are of fixed types and uses a lot less space on disk than list\n",
    "  lists uses built in data type in python to store data, and stores a lot more information than Numpy like <br>\n",
    "  >    - size of element\n",
    "  >    - reference count of element\n",
    "  >    - Object type\n",
    "  >    - Object Value\n",
    "\n",
    "\n",
    "2. NumPy does not need to store all these additional data, binary form of Numpy uses a lot less space and much faster to read<br>\n",
    "3. NumPy does not do type checking while iterating over elements, while lists have to do type checking, as there can be multiple data types in single list\n",
    "\n",
    "4.  Contiguous memory allocation in NumPy\n",
    "  > - Benefits\n",
    "  >   -  SIMD (Single Instruction Multiple Data)  Vector Processing : all the elements are contigous, CPUs can perform operations on all elements in single instruction]\n",
    "  >   -  Effective Utilization of Cache\n",
    "\n",
    "5. **Operations**\n",
    "    1. > Lists - insertion, deletion, append, concat etc\n",
    "    2. > NumPy - all list operations , plus much more , eg like multiply [a*b] , not possible in lists and many other mathematical operations\n"
   ]
  },
  {
   "cell_type": "code",
   "execution_count": null,
   "metadata": {},
   "outputs": [],
   "source": [
    "# this will give error\n",
    "a = [1,2,3]\n",
    "b = [3,4,5]\n",
    "c = a*b\n",
    "print(c)"
   ]
  },
  {
   "cell_type": "code",
   "execution_count": null,
   "metadata": {},
   "outputs": [],
   "source": [
    "#import numpy statement\n",
    "import pandas as pd\n",
    "import numpy as np"
   ]
  },
  {
   "cell_type": "code",
   "execution_count": null,
   "metadata": {},
   "outputs": [],
   "source": [
    "#valid operation in NumPy\n",
    "a = np.array([1,3,5])\n",
    "b = np.array([1,2,3])\n",
    "print(a*b)"
   ]
  },
  {
   "attachments": {},
   "cell_type": "markdown",
   "metadata": {},
   "source": [
    "#### *First Step* <br>\n",
    "Create Numpy Array"
   ]
  },
  {
   "cell_type": "code",
   "execution_count": null,
   "metadata": {},
   "outputs": [],
   "source": [
    "a = np.array([1,2,3])"
   ]
  },
  {
   "cell_type": "code",
   "execution_count": null,
   "metadata": {},
   "outputs": [],
   "source": [
    "#create two dimensional array\n",
    "twod_array= np.array([[1,2,3,4],[5,6,7,8]])\n",
    "print(twod_array)"
   ]
  },
  {
   "attachments": {},
   "cell_type": "markdown",
   "metadata": {},
   "source": [
    "#### *Dimension & Size of Numpy Array*"
   ]
  },
  {
   "cell_type": "code",
   "execution_count": null,
   "metadata": {},
   "outputs": [],
   "source": [
    "#get dimension of numpy array\n",
    "a.ndim\n",
    "print(twod_array.ndim)\n",
    "#get type of array\n",
    "# int32 is default , but you can create with a different dtype if you'd want to be more efficient ( eg shown)\n",
    "a.dtype\n",
    "b = np.array([1,3,6], dtype='int16')\n",
    "print(b.dtype)\n"
   ]
  },
  {
   "cell_type": "code",
   "execution_count": null,
   "metadata": {},
   "outputs": [],
   "source": []
  },
  {
   "cell_type": "code",
   "execution_count": null,
   "metadata": {},
   "outputs": [],
   "source": [
    "#NumPy size attributes\n",
    "\n",
    "a.size   # number of elements in array\n",
    "a.itemsize   # size of each elemets in bytes\n",
    "a.nbytes   # total size of array in bytes  [ a.size * a.itemsize ]"
   ]
  },
  {
   "cell_type": "code",
   "execution_count": null,
   "metadata": {},
   "outputs": [],
   "source": [
    "# some more example of size\n",
    "print(twod_array.size)\n",
    "print(twod_array.itemsize)\n",
    "print(twod_array.nbytes)"
   ]
  },
  {
   "attachments": {},
   "cell_type": "markdown",
   "metadata": {},
   "source": [
    "#### *Access elements of Numpy Array*\n",
    "Elements of a numpy array can be accessed using format shown :\n",
    "1.  > 1d-array *Syntax =* `array[index]`\n",
    "2.  > 2d-array *Syntax =* `array[row,col]`"
   ]
  },
  {
   "cell_type": "code",
   "execution_count": null,
   "metadata": {},
   "outputs": [],
   "source": [
    "np_array = np.array([1,4,5,7,8])\n",
    "np_array[3]"
   ]
  },
  {
   "cell_type": "code",
   "execution_count": null,
   "metadata": {},
   "outputs": [],
   "source": [
    "twod_array = np.array([[1,2,3,4,5,6],[10,12,15,18,21,24]])\n",
    "twod_array"
   ]
  },
  {
   "cell_type": "code",
   "execution_count": null,
   "metadata": {},
   "outputs": [],
   "source": [
    "#getting a specific element\n",
    "\n",
    "twod_array[1,3]   # returns 18 from the array\n",
    "\n",
    "twod_array[0, :]   #returns the first row , `all elements`\n",
    "\n",
    "twod_array[: , 3]  #returns fourth column , `all elements`\n",
    "\n",
    "twod_array[1, 1:5:2]  #returns every second element, starting from index 1(included) till index 6(not included)"
   ]
  },
  {
   "attachments": {},
   "cell_type": "markdown",
   "metadata": {},
   "source": [
    "#### *Altering ELements in the Numpy Array*\n",
    "Elements from the NumPy Array can be altered using format shown\n",
    "1.  > 1-d array *Syntax=* `array[index]=new_element`\n",
    "2.  > More than one elements *Syntax=* `array[sliced_list_indexes]=new_element OR tuple/list of elements of same shape`\n",
    "3.  > 2-d array *Syntax=* `array[row,col]=new_element`\n",
    "4.  > More than one elements *Syntax=* `array[row,col]= new_element OR tuple/list of elements od same shape that needs to be replaced`\n"
   ]
  },
  {
   "cell_type": "code",
   "execution_count": null,
   "metadata": {},
   "outputs": [],
   "source": [
    "#1-d array examples\n",
    "\n",
    "np_array[2]=16  #\n",
    "np_array\n",
    "\n",
    "np_array[2:4]=33\n",
    "np_array\n",
    "\n",
    "np_array[2:4]=[12,21]\n",
    "np_array\n",
    "\n",
    "\n"
   ]
  },
  {
   "attachments": {},
   "cell_type": "markdown",
   "metadata": {},
   "source": [
    "#### Reorganising NumPy Arrays\n"
   ]
  },
  {
   "attachments": {},
   "cell_type": "markdown",
   "metadata": {},
   "source": [
    "**reshape**"
   ]
  },
  {
   "cell_type": "code",
   "execution_count": null,
   "metadata": {},
   "outputs": [],
   "source": [
    "a = np.array([[1,2,3,4],[5,6,7,8]])\n",
    "\n",
    "a.shape\n",
    "\n",
    "#reorganising\n",
    "a.reshape(2,2,2)\n",
    "a.reshape(1,8)\n",
    "\n",
    "#invalid reorganising\n",
    "a.reshape(2,3)"
   ]
  },
  {
   "attachments": {},
   "cell_type": "markdown",
   "metadata": {},
   "source": [
    "**stacking**"
   ]
  },
  {
   "cell_type": "code",
   "execution_count": null,
   "metadata": {},
   "outputs": [],
   "source": [
    "a = np.ones((2,3))\n",
    "b = np.zeros((3,3))\n",
    "c = np.full((2,4),5)\n",
    "\n",
    "#vertical stacking\n",
    "np.vstack([a,b])\n",
    "np.row_stack([a,b])\n",
    "\n",
    "#horizontal stacking\n",
    "np.hstack([a,c])\n",
    "np.column_stack([a,c])\n",
    "\n",
    "\n",
    "#invalid stacking\n",
    "# all the input array dimensions for the concatenation axis must match exactly\n",
    "np.vstack(a,c)      # cols in a=3 and c=4 , can't stack vertically , dimensions mismatch along axis=0\n",
    "np.hstack([a,b])     # rows in a=2 and b=3 , can stack horizontally , dimensions mismatch along axis=1\n",
    "\n"
   ]
  }
 ],
 "metadata": {
  "kernelspec": {
   "display_name": "base",
   "language": "python",
   "name": "python3"
  },
  "language_info": {
   "codemirror_mode": {
    "name": "ipython",
    "version": 3
   },
   "file_extension": ".py",
   "mimetype": "text/x-python",
   "name": "python",
   "nbconvert_exporter": "python",
   "pygments_lexer": "ipython3",
   "version": "3.9.12"
  },
  "orig_nbformat": 4
 },
 "nbformat": 4,
 "nbformat_minor": 2
}
