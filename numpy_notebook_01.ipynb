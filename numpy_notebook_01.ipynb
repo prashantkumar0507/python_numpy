{
 "cells": [
  {
   "attachments": {},
   "cell_type": "markdown",
   "metadata": {},
   "source": [
    "#### **Lists v/s NumPy** <br>\n",
    "Why is NumPy faster than Lists\n",
    "\n",
    "1. NumPy arrays are of fixed types and uses a lot less space on disk than list\n",
    "  lists uses built in data type in python to store data, and stores a lot more information than Numpy like <br>\n",
    "  >    - size of element\n",
    "  >    - reference count of element\n",
    "  >    - Object type\n",
    "  >    - Object Value\n",
    "\n",
    "\n",
    "2. NumPy does not need to store all these additional data, binary form of Numpy uses a lot less space and much faster to read<br>\n",
    "3. NumPy does not do type checking while iterating over elements, while lists have to do type checking, as there can be multiple data types in single list\n",
    "\n",
    "4.  Contiguous memory allocation in NumPy\n",
    "  > - Benefits\n",
    "  >   -  SIMD (Single Instruction Multiple Data)  Vector Processing : all the elements are contigous, CPUs can perform operations on all elements in single instruction]\n",
    "  >   -  Effective Utilization of Cache\n",
    "\n",
    "5. **Operations**\n",
    "    1. > Lists - insertion, deletion, append, concat etc\n",
    "    2. > NumPy - all list operations , plus much more , eg like multiply [a*b] , not possible in lists and many other mathematical operations\n"
   ]
  },
  {
   "cell_type": "code",
   "execution_count": 3,
   "metadata": {},
   "outputs": [],
   "source": [
    "# this will give error\n",
    "a = [1,2,3]\n",
    "b = [3,4,5]\n",
    "c = a*b\n",
    "print(c)"
   ]
  },
  {
   "cell_type": "code",
   "execution_count": 2,
   "metadata": {},
   "outputs": [],
   "source": [
    "#import numpy statement\n",
    "import pandas as pd\n",
    "import numpy as np"
   ]
  },
  {
   "cell_type": "code",
   "execution_count": 4,
   "metadata": {},
   "outputs": [
    {
     "name": "stdout",
     "output_type": "stream",
     "text": [
      "[ 1  6 15]\n"
     ]
    }
   ],
   "source": [
    "#valid operation in NumPy\n",
    "a = np.array([1,3,5])\n",
    "b = np.array([1,2,3])\n",
    "print(a*b)"
   ]
  },
  {
   "attachments": {},
   "cell_type": "markdown",
   "metadata": {},
   "source": [
    "### *First Step* <br>\n",
    "Create Numpy Array"
   ]
  },
  {
   "cell_type": "code",
   "execution_count": 3,
   "metadata": {},
   "outputs": [],
   "source": [
    "a = np.array([1,2,3])"
   ]
  },
  {
   "cell_type": "code",
   "execution_count": 7,
   "metadata": {},
   "outputs": [
    {
     "name": "stdout",
     "output_type": "stream",
     "text": [
      "[[1 2 3 4]\n",
      " [5 6 7 8]]\n"
     ]
    }
   ],
   "source": [
    "#create two dimensional array\n",
    "twod_array= np.array([[1,2,3,4],[5,6,7,8]])\n",
    "print(twod_array)"
   ]
  },
  {
   "attachments": {},
   "cell_type": "markdown",
   "metadata": {},
   "source": [
    "### *Dimension & Size of Numpy Array*"
   ]
  },
  {
   "cell_type": "code",
   "execution_count": 14,
   "metadata": {},
   "outputs": [
    {
     "name": "stdout",
     "output_type": "stream",
     "text": [
      "2\n",
      "int16\n"
     ]
    }
   ],
   "source": [
    "#get dimension of numpy array\n",
    "a.ndim\n",
    "print(twod_array.ndim)\n",
    "#get type of array\n",
    "# int32 is default , but you can create with a different dtype if you'd want to be more efficient ( eg shown)\n",
    "a.dtype\n",
    "b = np.array([1,3,6], dtype='int16')\n",
    "print(b.dtype)\n"
   ]
  },
  {
   "cell_type": "code",
   "execution_count": 19,
   "metadata": {},
   "outputs": [
    {
     "data": {
      "text/plain": [
       "12"
      ]
     },
     "execution_count": 19,
     "metadata": {},
     "output_type": "execute_result"
    }
   ],
   "source": [
    "#NumPy size attributes\n",
    "\n",
    "a.size   # number of elements in array\n",
    "a.itemsize   # size of each elemets in bytes\n",
    "a.nbytes   # total size of array in bytes  [ a.size * a.itemsize ]"
   ]
  },
  {
   "cell_type": "code",
   "execution_count": 22,
   "metadata": {},
   "outputs": [
    {
     "name": "stdout",
     "output_type": "stream",
     "text": [
      "8\n",
      "4\n",
      "32\n"
     ]
    }
   ],
   "source": [
    "# some more example of size\n",
    "print(twod_array.size)\n",
    "print(twod_array.itemsize)\n",
    "print(twod_array.nbytes)"
   ]
  }
 ],
 "metadata": {
  "kernelspec": {
   "display_name": "base",
   "language": "python",
   "name": "python3"
  },
  "language_info": {
   "codemirror_mode": {
    "name": "ipython",
    "version": 3
   },
   "file_extension": ".py",
   "mimetype": "text/x-python",
   "name": "python",
   "nbconvert_exporter": "python",
   "pygments_lexer": "ipython3",
   "version": "3.9.12"
  },
  "orig_nbformat": 4
 },
 "nbformat": 4,
 "nbformat_minor": 2
}
