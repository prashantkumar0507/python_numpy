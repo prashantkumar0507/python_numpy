{
 "cells": [
  {
   "attachments": {},
   "cell_type": "markdown",
   "metadata": {},
   "source": [
    "## **NUMPY BASICS #2**"
   ]
  },
  {
   "attachments": {},
   "cell_type": "markdown",
   "metadata": {},
   "source": [
    "This introduction of NumPy notebook covers\n",
    ">   - Initializinng NumPy arrays\n",
    ">   - Array Copy\n",
    ">   - Array from file\n",
    ">   - NumPy Boolean operations"
   ]
  },
  {
   "cell_type": "code",
   "execution_count": null,
   "metadata": {},
   "outputs": [],
   "source": [
    "import numpy as np"
   ]
  },
  {
   "attachments": {},
   "cell_type": "markdown",
   "metadata": {},
   "source": [
    "#### **Initialize NumPy Arrays** <br>\n",
    "\n",
    "1.  > `np.zeros(shape_of_matrix)`\n",
    "    >   -       np.zeros create array of dtype('float64') by default, you can pass the dtype you want, for array to be created.\n",
    "2.  > `np.ones(shape_of_matrix)`\n",
    "3.  > `np.full(shape_of_matrix, filling_element, dtype(optional))`\n",
    "    >   -       takes dtype of 'filling_element' if dtype is not passed\n",
    "4.  >  `np.full_like(shape_of_base_array,filling_element,dtype(optional))`\n",
    "    >   -       takes the shape of array passed in first argument\n",
    "5.  >   `np.random.rand(shape)`\n",
    "    >   -       creates the numpy array of random decimal numbers\n",
    "6.  >   `np.random.random_sample(array.shape)`\n",
    "    >   -       create a random array with a shape passed\n",
    "7.  >   `np.random.randint(low, high (optional), size, dtype)`\n",
    "    >   -       If high is None (the default), then results are from [0, low)\n",
    "8.  >   `np.identity()`\n",
    "9.  >   `np.repeat(array, num_times, axis)`\n",
    "    >   -       repeats the array by number of times passed as argument\n"
   ]
  },
  {
   "cell_type": "code",
   "execution_count": null,
   "metadata": {},
   "outputs": [],
   "source": [
    "# Initialize an array with all elements 0\n",
    "\n",
    "a0 = np.zeros((2,3))     # create a 2d numpy array of shape 2*3\n",
    "print(a0.dtype)\n",
    "a1 = np.zeros((2,3), dtype='int16')  # creates a matrix of elements of dtype=int16\n"
   ]
  },
  {
   "cell_type": "code",
   "execution_count": null,
   "metadata": {},
   "outputs": [],
   "source": [
    "b0 = np.ones((3,4,5))   # creates a 3d array for all ones , default= float64\n",
    "print(b0)\n",
    "\n",
    "b1 = np.ones((1,3,2), dtype='int16')\n",
    "print(b1)"
   ]
  },
  {
   "cell_type": "code",
   "execution_count": null,
   "metadata": {},
   "outputs": [],
   "source": [
    "# create an array with all elements as specific number\n",
    "c0 = np.full((3,2),5)\n",
    "print(c0)\n",
    "\n",
    "c1 = np.full((2,2), 5, dtype='float32')\n",
    "print(c1)\n",
    "\n",
    "# Bonus\n",
    "c2 = np.full(c1.shape, 44)   # shape of c1 is passed \n",
    "print(c2)"
   ]
  },
  {
   "cell_type": "code",
   "execution_count": null,
   "metadata": {},
   "outputs": [],
   "source": [
    "#full_like\n",
    "d0 = np.full_like(c0, 99)    # takes the shape of array c0\n",
    "print(d0)"
   ]
  },
  {
   "cell_type": "code",
   "execution_count": null,
   "metadata": {},
   "outputs": [],
   "source": [
    "# creating array with random decimal numbers\n",
    "random_array = np.random.rand(3,3)\n",
    "print(random_array)\n",
    "\n",
    "# creating a array of random decimal numbers with shape of another array\n",
    "sample_random_array = np.random.random_sample(random_array.shape)\n",
    "print(sample_random_array)"
   ]
  },
  {
   "cell_type": "code",
   "execution_count": null,
   "metadata": {},
   "outputs": [],
   "source": []
  },
  {
   "cell_type": "code",
   "execution_count": null,
   "metadata": {},
   "outputs": [],
   "source": [
    "# array of random integers\n",
    "\n",
    "int_array = np.random.randint(6,size=3)   # 1d integer array of size 3  , \n",
    "print(int_array)\n",
    "\n",
    "int_array_2d = np.random.randint(-2,8, size=(3,2))\n",
    "print(int_array_2d) "
   ]
  },
  {
   "cell_type": "code",
   "execution_count": null,
   "metadata": {},
   "outputs": [],
   "source": [
    "#identity matrix [ creates a square matrix]\n",
    "identity_array = np.identity(4)    # creates an identity_array of size 4*4\n",
    "print(identity_array)"
   ]
  },
  {
   "cell_type": "code",
   "execution_count": null,
   "metadata": {},
   "outputs": [],
   "source": [
    "# repeat\n",
    "\n",
    "repeat_arr = np.repeat(int_array, 2)\n",
    "print(repeat_arr)\n",
    "\n",
    "repeat_arr_2 = np.repeat(int_array_2d, 2, axis=1)\n",
    "print(repeat_arr_2)"
   ]
  },
  {
   "attachments": {},
   "cell_type": "markdown",
   "metadata": {},
   "source": [
    "#### **Copy NumPy Arrays** <br>\n",
    "1.  >   creating new array refrencing to existing array `[ eg. a=b ]`\n",
    "    >   -      modification to any one array reflects the changes in both arays, since both references to same object\n",
    "2.  >   `array.copy()`\n",
    "    >   -      changes in one array does not reflects to another array as new object is created while copying"
   ]
  },
  {
   "cell_type": "code",
   "execution_count": null,
   "metadata": {},
   "outputs": [],
   "source": [
    "#Array Copy\n",
    "\n",
    "a = np.array([1,2,5])\n",
    "b = a\n",
    "b[1] = 9\n",
    "\n",
    "print(a)\n",
    "print(b)\n",
    "\n",
    "c = np.array([2,4,6])\n",
    "d = c.copy()\n",
    "d[1]=8\n",
    "\n",
    "print(c)\n",
    "print(d)"
   ]
  },
  {
   "attachments": {},
   "cell_type": "markdown",
   "metadata": {},
   "source": [
    "#### **Array from file** <br>\n",
    ">   - default dtype='float64' and can be changed accordingly\n"
   ]
  },
  {
   "cell_type": "code",
   "execution_count": null,
   "metadata": {},
   "outputs": [],
   "source": [
    "file_array = np.genfromtxt(\"numpy_data.txt\", delimiter=\",\")\n",
    "file_array.shape\n",
    "\n",
    "file_array.dtype   # check default dtype\n",
    "\n",
    "file_array=file_array.astype('int16')   #change dtype of array\n",
    "file_array\n"
   ]
  },
  {
   "attachments": {},
   "cell_type": "markdown",
   "metadata": {},
   "source": [
    "#### NumPy Boolean operations"
   ]
  },
  {
   "cell_type": "code",
   "execution_count": null,
   "metadata": {},
   "outputs": [],
   "source": [
    "file_array>100    # returns the boolean array\n",
    "\n",
    "file_array[file_array>100]  # returns an array with only values that are true to condition\n",
    "\n",
    "# multiple conditions\n",
    "cond1 = ((file_array>20) & (file_array<100))\n",
    "cond2 = (~((file_array>20) & (file_array<100)))    \n",
    "\n",
    "new_array = file_array[((file_array>20) & (file_array<100))]\n",
    "new_inverse_array = file_array[cond2]\n",
    "\n",
    "print(new_array)\n",
    "new_inverse_array"
   ]
  },
  {
   "cell_type": "code",
   "execution_count": null,
   "metadata": {},
   "outputs": [],
   "source": [
    "np.any(file_array>40)\n",
    "np.any(file_array>40, axis=0)\n",
    "\n",
    "np.all(file_array>50)\n",
    "np.all(file_array>10, axis=0)\n",
    "\n",
    "\n",
    "np.ma.count(file_array)\n",
    "np.ma.count(file_array[((file_array>20) & (file_array<100))])\n"
   ]
  }
 ],
 "metadata": {
  "kernelspec": {
   "display_name": "base",
   "language": "python",
   "name": "python3"
  },
  "language_info": {
   "codemirror_mode": {
    "name": "ipython",
    "version": 3
   },
   "file_extension": ".py",
   "mimetype": "text/x-python",
   "name": "python",
   "nbconvert_exporter": "python",
   "pygments_lexer": "ipython3",
   "version": "3.9.12"
  },
  "orig_nbformat": 4
 },
 "nbformat": 4,
 "nbformat_minor": 2
}
