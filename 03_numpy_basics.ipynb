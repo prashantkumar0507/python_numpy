{
 "cells": [
  {
   "attachments": {},
   "cell_type": "markdown",
   "metadata": {},
   "source": [
    "## **NUMPY BASICS #3**"
   ]
  },
  {
   "attachments": {},
   "cell_type": "markdown",
   "metadata": {},
   "source": [
    "This NumPy notebook covers\n",
    ">   - NumPy Mathematics\n",
    ">   - NumPy Linear Algebra\n",
    ">   - NumPy Statistics\n",
    ">   - NumPy "
   ]
  },
  {
   "cell_type": "code",
   "execution_count": 2,
   "metadata": {},
   "outputs": [],
   "source": [
    "import numpy as np"
   ]
  },
  {
   "attachments": {},
   "cell_type": "markdown",
   "metadata": {},
   "source": [
    "#### **NumPy Mathematics** <br>\n",
    ">   -   refer to numpy mathematics documentation at - `https://numpy.org/doc/stable/reference/routines.math.html`\n",
    ">   -   Explore and play with the functions that are not shown in notebook"
   ]
  },
  {
   "cell_type": "code",
   "execution_count": 13,
   "metadata": {},
   "outputs": [
    {
     "name": "stdout",
     "output_type": "stream",
     "text": [
      "[2 3 4 5 6 7]\n",
      "[-3 -2 -1  0  1  2]\n",
      "[ 0  2  4  6  8 10]\n",
      "[0.  0.5 1.  1.5 2.  2.5]\n"
     ]
    }
   ],
   "source": [
    "# scalar operations on numpy arrays\n",
    "a = np.arange(6)\n",
    "\n",
    "print(a+2)\n",
    "print(a-3)\n",
    "print(a*2)\n",
    "print(a/2)"
   ]
  },
  {
   "attachments": {},
   "cell_type": "markdown",
   "metadata": {},
   "source": []
  }
 ],
 "metadata": {
  "kernelspec": {
   "display_name": "base",
   "language": "python",
   "name": "python3"
  },
  "language_info": {
   "codemirror_mode": {
    "name": "ipython",
    "version": 3
   },
   "file_extension": ".py",
   "mimetype": "text/x-python",
   "name": "python",
   "nbconvert_exporter": "python",
   "pygments_lexer": "ipython3",
   "version": "3.9.12"
  },
  "orig_nbformat": 4
 },
 "nbformat": 4,
 "nbformat_minor": 2
}
