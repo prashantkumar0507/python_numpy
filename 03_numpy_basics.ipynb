{
 "cells": [
  {
   "attachments": {},
   "cell_type": "markdown",
   "metadata": {},
   "source": [
    "## **NUMPY BASICS #3**"
   ]
  },
  {
   "attachments": {},
   "cell_type": "markdown",
   "metadata": {},
   "source": [
    "This NumPy notebook covers\n",
    ">   - NumPy Mathematics\n",
    ">   - NumPy Linear Algebra\n",
    ">   - NumPy Statistics\n",
    ">   - NumPy "
   ]
  },
  {
   "cell_type": "code",
   "execution_count": null,
   "metadata": {},
   "outputs": [],
   "source": [
    "import numpy as np"
   ]
  },
  {
   "attachments": {},
   "cell_type": "markdown",
   "metadata": {},
   "source": [
    "#### **NumPy Axis**\n",
    "<pre>\n",
    "            axis=0\n",
    "                |\n",
    "                |\n",
    "                |_______ axis =1\n",
    "</pre>"
   ]
  },
  {
   "attachments": {},
   "cell_type": "markdown",
   "metadata": {},
   "source": [
    "#### **NumPy Mathematics** <br>\n",
    ">   -   refer to numpy mathematics documentation at - `https://numpy.org/doc/stable/reference/routines.math.html`\n",
    ">   -   Explore and play with the functions that are not shown in notebook"
   ]
  },
  {
   "cell_type": "code",
   "execution_count": null,
   "metadata": {},
   "outputs": [],
   "source": [
    "# scalar operations on numpy arrays\n",
    "a = np.arange(6)\n",
    "\n",
    "print(a+2)\n",
    "print(a-3)\n",
    "print(a*2)\n",
    "print(a/2)"
   ]
  },
  {
   "cell_type": "code",
   "execution_count": null,
   "metadata": {},
   "outputs": [],
   "source": []
  },
  {
   "attachments": {},
   "cell_type": "markdown",
   "metadata": {},
   "source": [
    "**math functions in Numpy** <br>_few examples_\n",
    ">   -   `add(), subtract(), multiply(), divide()`\n",
    ">   -   `sum()`\n",
    ">   -   `prod()`\n",
    ">   -   `sin()`\n",
    ">   -   `cos()`"
   ]
  },
  {
   "cell_type": "code",
   "execution_count": null,
   "metadata": {},
   "outputs": [],
   "source": [
    "# math opearations on two arrays\n",
    "a = np.arange(1,6,2)\n",
    "b = np.arange(6,12,2)\n",
    "\n",
    "print(a+b)   # adding two numpy array\n",
    "print(np.add(a,b))   # same as a+b\n",
    "print(b-a)   # difference of two arrays\n",
    "print(np.subtract(b,a))   # same as b-a\n",
    "print(a*b)   # multiplication of two arrays\n",
    "print(np.multiply(a,b))  # same as a*b\n",
    "print(b/a)   # division of two arrays\n",
    "print(np.divide(b,a)) # same as b/a\n"
   ]
  },
  {
   "cell_type": "code",
   "execution_count": null,
   "metadata": {},
   "outputs": [],
   "source": [
    "m_array = np.arange(6).reshape(2,3)\n",
    "\n",
    "print(m_array)\n",
    "print(np.sum(m_array))    # sum()\n",
    "print(np.prod(m_array, axis=0))  #prod"
   ]
  },
  {
   "cell_type": "code",
   "execution_count": null,
   "metadata": {},
   "outputs": [],
   "source": [
    "arr = np.array([1,3,6])\n",
    "print(np.sin(arr))\n",
    "print(np.cos(arr))\n"
   ]
  },
  {
   "attachments": {},
   "cell_type": "markdown",
   "metadata": {},
   "source": [
    "#### **NumPy Linear Algebra Functions** <br>\n",
    ">   -   refer to numpy linear algebra documentation at - `https://numpy.org/doc/stable/reference/routines.linalg.html`\n",
    ">   -   Explore and play with the functions that are not shown in notebook"
   ]
  },
  {
   "attachments": {},
   "cell_type": "markdown",
   "metadata": {},
   "source": [
    "**trace()**\n",
    ">   trace - sum along diagonals\n"
   ]
  },
  {
   "cell_type": "code",
   "execution_count": null,
   "metadata": {},
   "outputs": [],
   "source": [
    "\n",
    "print(np.eye(3))\n",
    "print(np.trace(np.arange(9).reshape(3,3)))\n",
    "\n",
    "print(np.trace(np.arange(8).reshape(2,2,2)))\n",
    "np.arange(8).reshape(2,2,2)"
   ]
  },
  {
   "cell_type": "code",
   "execution_count": null,
   "metadata": {},
   "outputs": [],
   "source": [
    "a = np.arange(6).reshape(2,3)\n",
    "b = np.arange(6).reshape(3,2)\n"
   ]
  },
  {
   "attachments": {},
   "cell_type": "markdown",
   "metadata": {},
   "source": [
    "**dot()**\n",
    ">   -   multiplication of two matrices\n",
    ">   -   multiplication by scalars are allowed"
   ]
  },
  {
   "cell_type": "code",
   "execution_count": null,
   "metadata": {},
   "outputs": [],
   "source": [
    "np.dot(a,b)\n",
    "np.dot(b,a)\n",
    "\n",
    "print(np.dot(a,3))"
   ]
  },
  {
   "attachments": {},
   "cell_type": "markdown",
   "metadata": {},
   "source": [
    "**dot()**"
   ]
  },
  {
   "cell_type": "code",
   "execution_count": null,
   "metadata": {},
   "outputs": [],
   "source": [
    "np.dot(3,4)"
   ]
  },
  {
   "cell_type": "code",
   "execution_count": null,
   "metadata": {},
   "outputs": [],
   "source": [
    "a = [[1, 0], [0, 1]]\n",
    "b = [[4, 1], [2, 2]]\n",
    "np.dot(a, b)\n",
    "\n",
    "np.dot(a,2)"
   ]
  },
  {
   "attachments": {},
   "cell_type": "markdown",
   "metadata": {},
   "source": [
    "**matmul()**\n",
    ">   -   Matrix product of two arrays\n",
    ">   -   Scalar products are not allowed"
   ]
  },
  {
   "attachments": {},
   "cell_type": "markdown",
   "metadata": {},
   "source": [
    ">   -   **CASE** - both arguments are 2d-arrays\n",
    ">   -   both arrays are multiplied like dot product (`matrix multiplication`)"
   ]
  },
  {
   "cell_type": "code",
   "execution_count": null,
   "metadata": {},
   "outputs": [],
   "source": [
    "a = np.ones((2,2))\n",
    "b = np.eye(2)\n",
    "print(np.matmul(a,b) )  \n",
    "np.matmul(b,a)"
   ]
  },
  {
   "attachments": {},
   "cell_type": "markdown",
   "metadata": {},
   "source": [
    ">   -   **CASE** - one arguments are 2d-array and another is 1d-array\n",
    ">   -   If the first argument is 1-D, it is promoted to a matrix by prepending a 1 to its dimensions. After matrix multiplication the prepended 1 is removed.\n",
    ">   -   If the second argument is 1-D, it is promoted to a matrix by appending a 1 to its dimensions. After matrix multiplication the appended 1 is removed.\n",
    "\n",
    "\n",
    "```\n",
    "\n",
    "        When -First argument 2d (2,2) , (1,2) -> (1,2)  \n",
    "        When -Second argument 2d  (1,2) , (2,2) -> (1,2)\n",
    "```"
   ]
  },
  {
   "cell_type": "code",
   "execution_count": null,
   "metadata": {},
   "outputs": [],
   "source": [
    "\n",
    "a = np.ones((2,2))\n",
    "b = np.array([1,3])\n",
    "\n",
    "# 2d & 1d-arrays\n",
    "np.matmul(a,b)\n",
    "\n",
    "# 1d & 2d-arrays\n",
    "np.matmul(b,a)"
   ]
  },
  {
   "cell_type": "code",
   "execution_count": null,
   "metadata": {},
   "outputs": [],
   "source": [
    "a = np.ones((2,2))\n",
    "b = np.array([2,3])\n",
    "\n",
    "print(np.matmul(a,b) )  \n",
    "np.matmul(b,a)"
   ]
  },
  {
   "attachments": {},
   "cell_type": "markdown",
   "metadata": {},
   "source": [
    ">   -   **CASE** - any arguments are Nd-array where N>2\n",
    ">   -   treated as stack of matrices residing in the last two indexes and then broadcast\n",
    "\n",
    "\n",
    "```\n",
    "\n",
    "        First argument 4d (4,6,1,2)    \n",
    "        Second argument 4d (4,6,2,1) \n",
    "        Result          4d (4,6,1,1)\n",
    "```\n",
    "rightmost 2 dimensions multiply following the rule `(n,k),(k,m)->(n,m)`  giving 1 x 1 matrix , others are broadcasted accordingly giving (4,6,1,1) shape"
   ]
  },
  {
   "cell_type": "code",
   "execution_count": null,
   "metadata": {},
   "outputs": [],
   "source": [
    "a = np.ones([4,6,1,2])\n",
    "b = np.ones([4,6,2,1])\n",
    "\n",
    "np.matmul(a,b).shape"
   ]
  },
  {
   "cell_type": "code",
   "execution_count": null,
   "metadata": {},
   "outputs": [],
   "source": [
    "np.matmul(b,a).shape"
   ]
  },
  {
   "attachments": {},
   "cell_type": "markdown",
   "metadata": {},
   "source": [
    ">   below example gives error as the left most dimensions after the 2 right most dimesions are not [broadcastable](./numpy_fundamentals_broadcasting.ipynb)"
   ]
  },
  {
   "cell_type": "code",
   "execution_count": null,
   "metadata": {},
   "outputs": [],
   "source": [
    "c = np.ones([3,5,3,2])\n",
    "d = np.ones([4,5,2,3])\n",
    "\n",
    "np.matmul(c,d)"
   ]
  },
  {
   "attachments": {},
   "cell_type": "markdown",
   "metadata": {},
   "source": [
    "**matmul() vs dot()**\n",
    ">   -   scalar multiplication not allowed in matmul \n",
    ">   -   Stacks of matrices are broadcast together as if the matrices were elements, respecting the signature `(n,k),(k,m)->(n,m)`\n",
    "\n",
    "_see notebook [`numpy_fundamentals_broadcasting`](./numpy_fundamentals_broadcasting.ipynb) for broadcasting_"
   ]
  },
  {
   "cell_type": "code",
   "execution_count": null,
   "metadata": {},
   "outputs": [],
   "source": [
    "# matmul() - multiplication of two matrices , which are not scalars\n",
    "np.matmul(a,b)"
   ]
  },
  {
   "cell_type": "code",
   "execution_count": null,
   "metadata": {},
   "outputs": [],
   "source": [
    "a = np.ones([9, 5, 7, 4])\n",
    "c = np.ones([9, 5, 4, 3])\n",
    "\n",
    "print(np.dot(a,c).shape)\n",
    "np.matmul(a,c).shape"
   ]
  },
  {
   "attachments": {},
   "cell_type": "markdown",
   "metadata": {},
   "source": [
    "#### **NumPy Statistics Functions** <br>\n",
    ">   -   refer to numpy statistics documentation at - `https://numpy.org/doc/stable/reference/routines.statistics.html`\n",
    ">   -   Explore and play with the functions that are not shown in notebook\n"
   ]
  },
  {
   "cell_type": "code",
   "execution_count": null,
   "metadata": {},
   "outputs": [],
   "source": [
    "a = np.array([[1,3,5],[2,4,6]])\n"
   ]
  },
  {
   "cell_type": "code",
   "execution_count": 10,
   "metadata": {},
   "outputs": [
    {
     "data": {
      "text/plain": [
       "array([1, 2])"
      ]
     },
     "execution_count": 10,
     "metadata": {},
     "output_type": "execute_result"
    }
   ],
   "source": [
    "#min\n",
    "np.min(a)\n",
    "np.min(a, axis=0)\n",
    "np.min(a, axis=1)"
   ]
  },
  {
   "cell_type": "code",
   "execution_count": 13,
   "metadata": {},
   "outputs": [
    {
     "data": {
      "text/plain": [
       "array([5, 6])"
      ]
     },
     "execution_count": 13,
     "metadata": {},
     "output_type": "execute_result"
    }
   ],
   "source": [
    "#max\n",
    "np.max(a)\n",
    "np.max(a, axis=0)\n",
    "np.max(a, axis=1)"
   ]
  },
  {
   "cell_type": "code",
   "execution_count": 16,
   "metadata": {},
   "outputs": [
    {
     "data": {
      "text/plain": [
       "array([ 9, 12])"
      ]
     },
     "execution_count": 16,
     "metadata": {},
     "output_type": "execute_result"
    }
   ],
   "source": [
    "#sum\n",
    "np.sum(a)\n",
    "np.sum(a,axis=0)\n",
    "np.sum(a, axis=1)"
   ]
  },
  {
   "cell_type": "code",
   "execution_count": null,
   "metadata": {},
   "outputs": [],
   "source": []
  }
 ],
 "metadata": {
  "kernelspec": {
   "display_name": "base",
   "language": "python",
   "name": "python3"
  },
  "language_info": {
   "codemirror_mode": {
    "name": "ipython",
    "version": 3
   },
   "file_extension": ".py",
   "mimetype": "text/x-python",
   "name": "python",
   "nbconvert_exporter": "python",
   "pygments_lexer": "ipython3",
   "version": "3.9.12"
  },
  "orig_nbformat": 4
 },
 "nbformat": 4,
 "nbformat_minor": 2
}
