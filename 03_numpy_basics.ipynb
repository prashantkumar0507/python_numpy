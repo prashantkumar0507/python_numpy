{
 "cells": [
  {
   "attachments": {},
   "cell_type": "markdown",
   "metadata": {},
   "source": [
    "## **NUMPY BASICS #3**"
   ]
  },
  {
   "attachments": {},
   "cell_type": "markdown",
   "metadata": {},
   "source": [
    "This NumPy notebook covers\n",
    ">   - NumPy Mathematics\n",
    ">   - NumPy Linear Algebra\n",
    ">   - NumPy Statistics\n",
    ">   - NumPy "
   ]
  },
  {
   "cell_type": "code",
   "execution_count": 2,
   "metadata": {},
   "outputs": [],
   "source": [
    "import numpy as np"
   ]
  },
  {
   "attachments": {},
   "cell_type": "markdown",
   "metadata": {},
   "source": [
    "#### **NumPy Mathematics** <br>\n",
    ">   -   refer to numpy mathematics documentation at - `https://numpy.org/doc/stable/reference/routines.math.html`\n",
    ">   -   Explore and play with the functions that are not shown in notebook"
   ]
  },
  {
   "cell_type": "code",
   "execution_count": null,
   "metadata": {},
   "outputs": [],
   "source": [
    "# scalar operations on numpy arrays\n",
    "a = np.arange(6)\n",
    "\n",
    "print(a+2)\n",
    "print(a-3)\n",
    "print(a*2)\n",
    "print(a/2)"
   ]
  },
  {
   "cell_type": "code",
   "execution_count": null,
   "metadata": {},
   "outputs": [],
   "source": []
  },
  {
   "attachments": {},
   "cell_type": "markdown",
   "metadata": {},
   "source": [
    "**math functions in Numpy** <br>_few examples_\n",
    ">   -   `add(), subtract(), multiply(), divide()`\n",
    ">   -   `sum()`\n",
    ">   -   `prod()`\n",
    ">   -   `sin()`\n",
    ">   -   `cos()`"
   ]
  },
  {
   "cell_type": "code",
   "execution_count": null,
   "metadata": {},
   "outputs": [],
   "source": [
    "# math opearations on two arrays\n",
    "a = np.arange(1,6,2)\n",
    "b = np.arange(6,12,2)\n",
    "\n",
    "print(a+b)   # adding two numpy array\n",
    "print(np.add(a,b))   # same as a+b\n",
    "print(b-a)   # difference of two arrays\n",
    "print(np.subtract(b,a))   # same as b-a\n",
    "print(a*b)   # multiplication of two arrays\n",
    "print(np.multiply(a,b))  # same as a*b\n",
    "print(b/a)   # division of two arrays\n",
    "print(np.divide(b,a)) # same as b/a\n"
   ]
  },
  {
   "cell_type": "code",
   "execution_count": null,
   "metadata": {},
   "outputs": [],
   "source": [
    "m_array = np.arange(6).reshape(2,3)\n",
    "\n",
    "print(m_array)\n",
    "print(np.sum(m_array))    # sum()\n",
    "print(np.prod(m_array, axis=0))  #prod"
   ]
  },
  {
   "cell_type": "code",
   "execution_count": null,
   "metadata": {},
   "outputs": [],
   "source": [
    "arr = np.array([1,3,6])\n",
    "print(np.sin(arr))\n",
    "print(np.cos(arr))\n"
   ]
  },
  {
   "attachments": {},
   "cell_type": "markdown",
   "metadata": {},
   "source": [
    "#### **NumPy Linear Algebra Functions** <br>\n",
    ">   -   refer to numpy linear algebra documentation at - `https://numpy.org/doc/stable/reference/routines.linalg.html`\n",
    ">   -   Explore and play with the functions that are not shown in notebook"
   ]
  },
  {
   "cell_type": "code",
   "execution_count": null,
   "metadata": {},
   "outputs": [],
   "source": [
    "# trace() for sum along diagonals\n",
    "\n",
    "print(np.eye(3))\n",
    "print(np.trace(np.arange(9).reshape(3,3)))\n",
    "print(np.trace(np.arange(8).reshape(2,2,2)))\n",
    "np.arange(8).reshape(2,2,2)"
   ]
  },
  {
   "cell_type": "code",
   "execution_count": 4,
   "metadata": {},
   "outputs": [],
   "source": [
    "a = np.arange(6).reshape(2,3)\n",
    "b = np.arange(6).reshape(3,2)\n"
   ]
  },
  {
   "cell_type": "code",
   "execution_count": null,
   "metadata": {},
   "outputs": [],
   "source": [
    "#dot() - multiplication of two matrices , multiplication by scalars are allowed\n",
    "\n",
    "np.dot(a,b)\n",
    "np.dot(b,a)\n",
    "\n",
    "print(np.dot(a,3))"
   ]
  },
  {
   "attachments": {},
   "cell_type": "markdown",
   "metadata": {},
   "source": [
    "1.  -   matmul() vs dot()\n",
    ">   -   `scalar multiplication not allowed in matmul` \n",
    ">   -   `Stacks of matrices are broadcast together as if the matrices were elements, respecting the signature (n,k),(k,m)->(n,m)`"
   ]
  },
  {
   "cell_type": "code",
   "execution_count": 5,
   "metadata": {},
   "outputs": [
    {
     "data": {
      "text/plain": [
       "array([[10, 13],\n",
       "       [28, 40]])"
      ]
     },
     "execution_count": 5,
     "metadata": {},
     "output_type": "execute_result"
    }
   ],
   "source": [
    "# matmul() - multiplication of two matrices , which are not scalars\n",
    "np.matmul(a,b)"
   ]
  },
  {
   "cell_type": "code",
   "execution_count": 9,
   "metadata": {},
   "outputs": [
    {
     "name": "stdout",
     "output_type": "stream",
     "text": [
      "(9, 5, 7, 9, 5, 3)\n"
     ]
    },
    {
     "data": {
      "text/plain": [
       "(9, 5, 7, 3)"
      ]
     },
     "execution_count": 9,
     "metadata": {},
     "output_type": "execute_result"
    }
   ],
   "source": [
    "a = np.ones([9, 5, 7, 4])\n",
    "c = np.ones([9, 5, 4, 3])\n",
    "\n",
    "print(np.dot(a,c).shape)\n",
    "np.matmul(a,c).shape"
   ]
  }
 ],
 "metadata": {
  "kernelspec": {
   "display_name": "base",
   "language": "python",
   "name": "python3"
  },
  "language_info": {
   "codemirror_mode": {
    "name": "ipython",
    "version": 3
   },
   "file_extension": ".py",
   "mimetype": "text/x-python",
   "name": "python",
   "nbconvert_exporter": "python",
   "pygments_lexer": "ipython3",
   "version": "3.9.12"
  },
  "orig_nbformat": 4
 },
 "nbformat": 4,
 "nbformat_minor": 2
}
